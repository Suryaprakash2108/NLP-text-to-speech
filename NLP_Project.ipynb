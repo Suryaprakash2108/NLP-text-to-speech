{
  "nbformat": 4,
  "nbformat_minor": 0,
  "metadata": {
    "colab": {
      "private_outputs": true,
      "provenance": []
    },
    "kernelspec": {
      "name": "python3",
      "display_name": "Python 3"
    },
    "language_info": {
      "name": "python"
    }
  },
  "cells": [
    {
      "cell_type": "code",
      "execution_count": null,
      "metadata": {
        "id": "LAxOHHUJKTxu"
      },
      "outputs": [],
      "source": [
        "!pip install gTTS wikipedia\n",
        "\n",
        "import os\n",
        "from gtts import gTTS\n",
        "import wikipedia\n",
        "from IPython.display import Javascript, display\n",
        "def speak(to_speak=\"Default\"):\n",
        "    tts = gTTS(to_speak)\n",
        "    tts.save('out.wav')\n",
        "    os.system('aplay out.wav')\n",
        "def open_web(url):\n",
        "    display(Javascript(f'window.open(\"{url}\", \"_blank\");'))\n",
        "def bot():\n",
        "    print(\"Welcome to the Voice Assistant!\")\n",
        "\n",
        "    while True:\n",
        "        command = input(\"Type your command: \").lower()\n",
        "        print(f\"User says: {command}\\n\")\n",
        "\n",
        "        if 'wikipedia' in command:\n",
        "            speak('Searching Wikipedia...')\n",
        "            query = command.replace(\"wikipedia\", \"\").strip()\n",
        "            results = wikipedia.summary(query, sentences=3)\n",
        "            speak(\"Here is what I found on Wikipedia\")\n",
        "            print(results)\n",
        "            speak(results)\n",
        "\n",
        "        elif 'open youtube' in command:\n",
        "            speak(\"Opening YouTube\")\n",
        "            open_web('https://www.youtube.com')\n",
        "        elif 'open google' in command:\n",
        "            speak(\"Opening Google\")\n",
        "            open_web('https://www.google.co.in')\n",
        "\n",
        "        elif 'exit' in command:\n",
        "            speak(\"Thanks for giving me your time. Goodbye!\")\n",
        "            break\n",
        "\n",
        "        else:\n",
        "            speak(\"Sorry, I didn't catch that.\")\n",
        "bot()\n"
      ]
    }
  ]
}